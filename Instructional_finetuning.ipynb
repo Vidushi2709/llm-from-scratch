{
 "cells": [
  {
   "cell_type": "markdown",
   "id": "cb86d449",
   "metadata": {},
   "source": [
    "Intructional Finetuning: Prepare dataset -> Finetunee -> Evaluate."
   ]
  },
  {
   "cell_type": "code",
   "execution_count": 9,
   "id": "1646f579",
   "metadata": {},
   "outputs": [],
   "source": [
    "import torch \n",
    "from torch.utils.data import Dataset"
   ]
  },
  {
   "cell_type": "code",
   "execution_count": 1,
   "id": "b01be32c",
   "metadata": {},
   "outputs": [],
   "source": [
    "# current dataset has instruction, i/p, respone. I am using Alpaca prompt, hihi\n",
    "def format_input(entry):\n",
    "    instruction_text = (\n",
    "            f\"Below is an instruction that describes a task. \"\n",
    "            f\"Write a response that appropriately completes the request.\"\n",
    "            f\"\\n\\n## Instruction:\\n{entry['instruction']}\"\n",
    "            )\n",
    "    input_text = f\"\\n\\n### Input:\\n{entry['input']}\" if entry[\"input\"] else \"\"\n",
    "    return instruction_text + input_text"
   ]
  },
  {
   "cell_type": "code",
   "execution_count": 2,
   "id": "466c7be9",
   "metadata": {},
   "outputs": [
    {
     "data": {
      "text/html": [
       "<div>\n",
       "<style scoped>\n",
       "    .dataframe tbody tr th:only-of-type {\n",
       "        vertical-align: middle;\n",
       "    }\n",
       "\n",
       "    .dataframe tbody tr th {\n",
       "        vertical-align: top;\n",
       "    }\n",
       "\n",
       "    .dataframe thead th {\n",
       "        text-align: right;\n",
       "    }\n",
       "</style>\n",
       "<table border=\"1\" class=\"dataframe\">\n",
       "  <thead>\n",
       "    <tr style=\"text-align: right;\">\n",
       "      <th></th>\n",
       "      <th>instruction</th>\n",
       "      <th>input</th>\n",
       "      <th>output</th>\n",
       "    </tr>\n",
       "  </thead>\n",
       "  <tbody>\n",
       "    <tr>\n",
       "      <th>0</th>\n",
       "      <td>Evaluate the following phrase by transforming ...</td>\n",
       "      <td>freind --&gt; friend</td>\n",
       "      <td>The spelling of the given phrase \"freind\" is i...</td>\n",
       "    </tr>\n",
       "    <tr>\n",
       "      <th>1</th>\n",
       "      <td>Edit the following sentence for grammar.</td>\n",
       "      <td>He go to the park every day.</td>\n",
       "      <td>He goes to the park every day.</td>\n",
       "    </tr>\n",
       "    <tr>\n",
       "      <th>2</th>\n",
       "      <td>Convert 45 kilometers to meters.</td>\n",
       "      <td></td>\n",
       "      <td>45 kilometers is 45000 meters.</td>\n",
       "    </tr>\n",
       "    <tr>\n",
       "      <th>3</th>\n",
       "      <td>Rewrite this sentence to start with 'Although'...</td>\n",
       "      <td></td>\n",
       "      <td>Although it was raining, they went for a walk.</td>\n",
       "    </tr>\n",
       "    <tr>\n",
       "      <th>4</th>\n",
       "      <td>What are the first 10 square numbers?</td>\n",
       "      <td></td>\n",
       "      <td>1, 4, 9, 16, 25, 36, 49, 64, 81, 100.</td>\n",
       "    </tr>\n",
       "  </tbody>\n",
       "</table>\n",
       "</div>"
      ],
      "text/plain": [
       "                                         instruction  \\\n",
       "0  Evaluate the following phrase by transforming ...   \n",
       "1           Edit the following sentence for grammar.   \n",
       "2                   Convert 45 kilometers to meters.   \n",
       "3  Rewrite this sentence to start with 'Although'...   \n",
       "4              What are the first 10 square numbers?   \n",
       "\n",
       "                          input  \\\n",
       "0             freind --> friend   \n",
       "1  He go to the park every day.   \n",
       "2                                 \n",
       "3                                 \n",
       "4                                 \n",
       "\n",
       "                                              output  \n",
       "0  The spelling of the given phrase \"freind\" is i...  \n",
       "1                     He goes to the park every day.  \n",
       "2                     45 kilometers is 45000 meters.  \n",
       "3     Although it was raining, they went for a walk.  \n",
       "4              1, 4, 9, 16, 25, 36, 49, 64, 81, 100.  "
      ]
     },
     "execution_count": 2,
     "metadata": {},
     "output_type": "execute_result"
    }
   ],
   "source": [
    "import pandas as pd\n",
    "data= pd.read_json(\"instruction-data.json\")\n",
    "data.head()"
   ]
  },
  {
   "cell_type": "code",
   "execution_count": 8,
   "id": "ca8ec62f",
   "metadata": {},
   "outputs": [
    {
     "name": "stdout",
     "output_type": "stream",
     "text": [
      "Below is an instruction that describes a task. Write a response that appropriately completes the request.\n",
      "\n",
      "## Instruction:\n",
      "Edit the following sentence for grammar.\n",
      "\n",
      "### Input:\n",
      "He go to the park every day.\n",
      "\n",
      "### Respone:\n",
      "He goes to the park every day.\n"
     ]
    }
   ],
   "source": [
    "model_ip= format_input(data.iloc[1])\n",
    "desired_output= f\"\\n\\n### Respone:\\n{data.iloc[1]['output']}\"\n",
    "print(model_ip+ desired_output)"
   ]
  },
  {
   "cell_type": "code",
   "execution_count": 10,
   "id": "cabe28f0",
   "metadata": {},
   "outputs": [],
   "source": [
    "class Instruction_dataset(Dataset):\n",
    "    def __init__(self, data, tokenizer):\n",
    "        self.data= data\n",
    "        self.encoded_texts=[]\n",
    "        for entry in data:\n",
    "            Instruction_plus_ip= format_input(entry)\n",
    "            response_txt= f\"\\n\\n### Repsone:\\n{entry['output']}\"\n",
    "            full_txt= Instruction_plus_ip+ response_txt\n",
    "            self.encoded_texts.append(\n",
    "                tokenizer.encode(full_txt)\n",
    "            )\n",
    "            \n",
    "    def __getitem__(self, index):\n",
    "         return self.encoded_texts[index]\n",
    "    \n",
    "    def __len__(self):\n",
    "        return len(self.data)"
   ]
  },
  {
   "cell_type": "code",
   "execution_count": 11,
   "id": "d409ec7c",
   "metadata": {},
   "outputs": [],
   "source": [
    "# custom collate function coz why not? hehe, well it is needed to pad training egs to same len\n",
    "# but diff batches can have diff lens, this minimizes unnecessary padding.\n",
    "def custom_collate_draft(\n",
    "        batch,\n",
    "        pad_token_id= 50256,\n",
    "        device= \"cpu\"\n",
    "):\n",
    "    batch_max_length= max(len(item)+1 for item in batch)\n",
    "    input_lst= []\n",
    "\n",
    "    for item in batch:\n",
    "        new_item=item.copy()\n",
    "        new_item+=[pad_token_id]\n",
    "\n",
    "        padded=(\n",
    "            new_item+[pad_token_id]* (batch_max_length-len(new_item))\n",
    "        )\n",
    "\n",
    "        inputs= torch.tensor(padded[:-1])\n",
    "        input_lst.append(inputs)\n",
    "    \n",
    "    inputs_tensor= torch.stack(input_lst).to(device)\n",
    "    return inputs_tensor"
   ]
  },
  {
   "cell_type": "code",
   "execution_count": 12,
   "id": "6c2121aa",
   "metadata": {},
   "outputs": [
    {
     "name": "stdout",
     "output_type": "stream",
     "text": [
      "tensor([[   12,   131,    12,     1,   122],\n",
      "        [   90,    98,    90,     1, 50256],\n",
      "        [    0, 50256, 50256, 50256, 50256]])\n"
     ]
    }
   ],
   "source": [
    "ip1= [12,131,12,1,122]\n",
    "ip2= [90,98,90,1]\n",
    "ip3=[0]\n",
    "batch=(ip1, ip2, ip3)\n",
    "print(custom_collate_draft(batch))"
   ]
  },
  {
   "cell_type": "code",
   "execution_count": 16,
   "id": "671cf543",
   "metadata": {},
   "outputs": [],
   "source": [
    "# this custom_collate () is to return target token ids with addition to input token ids\n",
    "def custom_collate(\n",
    "        batch,\n",
    "        pad_token_id= 50256,\n",
    "        device= \"cpu\"\n",
    "):\n",
    "    batch_max_length= max(len(item)+1 for item in batch)\n",
    "    input_lst, target_lsts= [],[]\n",
    "\n",
    "    for item in batch:\n",
    "        new_item=item.copy()\n",
    "        new_item+=[pad_token_id]\n",
    "\n",
    "        padded=(\n",
    "            new_item+[pad_token_id]* (batch_max_length-len(new_item))\n",
    "        )\n",
    "\n",
    "        inputs= torch.tensor(padded[:-1])\n",
    "        targets= torch.tensor(padded[:-1])\n",
    "\n",
    "        input_lst.append(inputs)\n",
    "        target_lsts.append(targets)\n",
    "    \n",
    "    inputs_tensor= torch.stack(input_lst).to(device)\n",
    "    target_tensor= torch.stack(target_lsts).to(device)\n",
    "\n",
    "    return inputs_tensor, target_tensor"
   ]
  },
  {
   "cell_type": "code",
   "execution_count": 18,
   "id": "1545ed41",
   "metadata": {},
   "outputs": [
    {
     "name": "stdout",
     "output_type": "stream",
     "text": [
      "tensor([[   12,   131,    12,     1,   122],\n",
      "        [   90,    98,    90,     1, 50256],\n",
      "        [    0, 50256, 50256, 50256, 50256]])\n",
      "tensor([[   12,   131,    12,     1,   122],\n",
      "        [   90,    98,    90,     1, 50256],\n",
      "        [    0, 50256, 50256, 50256, 50256]])\n"
     ]
    }
   ],
   "source": [
    "ip1= [12,131,12,1,122]\n",
    "ip2= [90,98,90,1]\n",
    "ip3=[0]\n",
    "batch=(ip1, ip2, ip3)\n",
    "ips, tar= custom_collate(batch)\n",
    "print(ips)\n",
    "print(tar)"
   ]
  },
  {
   "cell_type": "code",
   "execution_count": 23,
   "id": "bb4e0c9e",
   "metadata": {},
   "outputs": [],
   "source": [
    "# this custom_collate_fn () is to assign -100 to all padding tokens\n",
    "# why? to make sure they don't contribute to train loss calc\n",
    "# to ensure only meaningful data influence our cutie model \n",
    "# why -100? coz cross_entropy function in pytorch ignores target labeled with -100\n",
    "def custom_collate_fn(\n",
    "        batch,\n",
    "        pad_token_id= 50256,\n",
    "        ignore_idx=-100,\n",
    "        allowed_max_len=None,\n",
    "        device= \"cpu\"\n",
    "):\n",
    "    batch_max_length= max(len(item)+1 for item in batch)\n",
    "    input_lst, target_lsts= [],[]\n",
    "\n",
    "    for item in batch:\n",
    "        new_item=item.copy()\n",
    "        new_item+=[pad_token_id]\n",
    "\n",
    "        padded=(\n",
    "            new_item+[pad_token_id]* (batch_max_length-len(new_item))\n",
    "        )\n",
    "\n",
    "        inputs= torch.tensor(padded[:-1])\n",
    "        targets= torch.tensor(padded[:-1])\n",
    "\n",
    "        mask = targets == pad_token_id\n",
    "        indices= torch.nonzero(mask).squeeze()\n",
    "        if indices.numel() > 1:\n",
    "            targets[indices[1:]]=ignore_idx\n",
    "        if allowed_max_len is not None:\n",
    "            inputs= inputs[:allowed_max_len]\n",
    "            targets= targets[:allowed_max_len]\n",
    "\n",
    "        input_lst.append(inputs)\n",
    "        target_lsts.append(targets)\n",
    "    \n",
    "    inputs_tensor= torch.stack(input_lst).to(device)\n",
    "    target_tensor= torch.stack(target_lsts).to(device)\n",
    "\n",
    "    return inputs_tensor, target_tensor"
   ]
  },
  {
   "cell_type": "code",
   "execution_count": 22,
   "id": "a00d2930",
   "metadata": {},
   "outputs": [
    {
     "name": "stdout",
     "output_type": "stream",
     "text": [
      "tensor([[   12,   131,    12,     1,   122],\n",
      "        [   90,    98,    90,     1, 50256],\n",
      "        [    0, 50256, 50256, 50256, 50256]])\n",
      "tensor([[   12,   131,    12,     1,   122],\n",
      "        [   90,    98,    90,     1, 50256],\n",
      "        [    0, 50256,  -100,  -100,  -100]])\n"
     ]
    }
   ],
   "source": [
    "ip1= [12,131,12,1,122]\n",
    "ip2= [90,98,90,1]\n",
    "ip3=[0]\n",
    "batch=(ip1, ip2, ip3)\n",
    "ips, tar= custom_collate_fn(batch)\n",
    "print(ips)\n",
    "print(tar)"
   ]
  },
  {
   "cell_type": "code",
   "execution_count": null,
   "id": "956f6407",
   "metadata": {},
   "outputs": [],
   "source": []
  }
 ],
 "metadata": {
  "kernelspec": {
   "display_name": "Python 3",
   "language": "python",
   "name": "python3"
  },
  "language_info": {
   "codemirror_mode": {
    "name": "ipython",
    "version": 3
   },
   "file_extension": ".py",
   "mimetype": "text/x-python",
   "name": "python",
   "nbconvert_exporter": "python",
   "pygments_lexer": "ipython3",
   "version": "3.11.5"
  }
 },
 "nbformat": 4,
 "nbformat_minor": 5
}
