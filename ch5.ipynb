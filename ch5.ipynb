{
 "cells": [
  {
   "cell_type": "code",
   "execution_count": 1,
   "id": "c62343b6",
   "metadata": {},
   "outputs": [],
   "source": [
    "import torch\n",
    "import tiktoken\n",
    "import matplotlib.pyplot as plt\n",
    "from basic import create_dataloader_v1\n",
    "from GPT_architecture import GPTModel\n",
    "from GPT_architecture import Generate_text"
   ]
  },
  {
   "cell_type": "code",
   "execution_count": 2,
   "id": "23c7e069",
   "metadata": {},
   "outputs": [],
   "source": [
    "GPT_CONFIG_124M = {\n",
    "        \"vocab_size\": 50257,\n",
    "        \"context_length\": 256, # Shortened from 1024 to make it easier to train on a laptop\n",
    "        \"emb_dim\": 768,\n",
    "        \"n_heads\": 12,\n",
    "        \"n_layers\": 12,\n",
    "        \"drop_rate\": 0.1,\n",
    "        \"qkv_bias\": False\n",
    "}"
   ]
  },
  {
   "cell_type": "code",
   "execution_count": 4,
   "metadata": {},
   "outputs": [],
   "source": [
    "def text_to_token_ids(txt, tokenizer):\n",
    "    encoded= tokenizer.encode(txt, allowed_special={'<|endoftext|>'})\n",
    "    encoded_tensor= torch.tensor(encoded).unsqueeze(0) # add dimension at position 0\n",
    "    return encoded_tensor"
   ]
  },
  {
   "cell_type": "code",
   "execution_count": 5,
   "id": "8f2e04a7",
   "metadata": {},
   "outputs": [],
   "source": [
    "def token_ids_to_txt(token_ids, tokenizer):\n",
    "    flat= token_ids.squeeze(0) # Remove batch dimension\n",
    "    return tokenizer.decode(flat.tolist())"
   ]
  },
  {
   "cell_type": "code",
   "execution_count": null,
   "id": "ce6a6a0f",
   "metadata": {},
   "outputs": [],
   "source": [
    "def cross_entropy(data_loader, model, device, num_batches=None):\n",
    "    ip_batch= ip_batch.to(device)\n",
    "    target_batch= target_batch.to(device)\n",
    "    logits= model(ip_batch)\n",
    "    loss= torch.nn.functional.cross_entropy(\n",
    "        logits.flatten(0,1), target_batch.flatten()\n",
    "    )\n",
    "    return loss"
   ]
  },
  {
   "cell_type": "code",
   "execution_count": null,
   "id": "996f6fae",
   "metadata": {},
   "outputs": [],
   "source": []
  }
 ],
 "metadata": {
  "kernelspec": {
   "display_name": "Python 3",
   "language": "python",
   "name": "python3"
  },
  "language_info": {
   "codemirror_mode": {
    "name": "ipython",
    "version": 3
   },
   "file_extension": ".py",
   "mimetype": "text/x-python",
   "name": "python",
   "nbconvert_exporter": "python",
   "pygments_lexer": "ipython3",
   "version": "3.11.5"
  }
 },
 "nbformat": 4,
 "nbformat_minor": 5
}
